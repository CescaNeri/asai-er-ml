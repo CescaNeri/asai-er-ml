{
  "cells": [
    {
      "cell_type": "markdown",
      "metadata": {
        "id": "view-in-github",
        "colab_type": "text"
      },
      "source": [
        "<a href=\"https://colab.research.google.com/github/CescaNeri/asai-er-ml/blob/main/ASAI_ER_2023_NumPy.ipynb\" target=\"_parent\"><img src=\"https://colab.research.google.com/assets/colab-badge.svg\" alt=\"Open In Colab\"/></a>"
      ]
    },
    {
      "cell_type": "markdown",
      "metadata": {
        "id": "ZfGLCMQAGKB2"
      },
      "source": [
        "# Laboratorio di programmazione Python\n",
        "\n",
        "Questa lezione di laboratorio ha l'obiettivo di farvi prendere pratica con le due librerie più usate in ambito Machine Learning/AI:\n",
        "1. La libreria [**NumPy**](https://numpy.org/), standard de facto per il calcolo matriciale;\n",
        "2. La libreria [**scikit-learn**](https://scikit-learn.org/stable/), contenente l'implementazione di un tanti algoritmi di Machine Learning pronti all'uso.\n",
        "\n",
        "La conoscenza di queste librerie è assolutamente fondamentale nel Machine Learning moderno.\n",
        "\n",
        "Per nostra fortuna entrambe le librerie sono semplici da utilizzare. In aggiunta, è spesso sufficiente l'uso di queste due sole librerie per poter affrontare molti problemi pratici che richiedono l'apprendimento automatico.\n",
        "\n",
        "Il laboratorio è diviso in due parti in cui vedremo queste librerie in sequenza, cominciando da *NumPy*.\n",
        "\n",
        "# Contatti\n",
        "Per maggiori info riguardanti l'esercitazione potete contattarmi all'indirizzo (l.pellegrini@unibo.it). Sito istituzionale: https://www.unibo.it/sitoweb/l.pellegrini\n",
        "\n",
        "## NumPy\n",
        "NumPy è una libreria del linguaggio Python che permette di definire e manipolare vettori e matrici multidimensionali.\n",
        "\n",
        "Per via della sua facilità d'uso e del gran numero di operazioni messe a disposizione *out-of-the-box*, NumPy è diventato un punto di riferimento per qualsiasi applicazione di tipo scientifico. Questa libreria nasce con l'intento di sopperire alle mancanze delle strutture dati messe a disposizione nativamente da Python che risultano poco adatte ad applicazioni matematiche.\n",
        "\n",
        "### Import\n",
        "\n",
        "Per prima cosa è necessario eseguire l'import del relativo modulo.\n",
        "\n",
        "La libreria viene convenzionalmente importata con il nome **np**. L'uso di nomi abbreviati per alcune librerie comuni (NumPy -> np, Matplotlib -> plt, ...) è uno standard ufficioso ma seguito da \"tutti\". Difficilmente incontrerete (su StackOverflow, forum, GitHub, ...) codice NumPy in cui NumPy non viene importato come *np*."
      ]
    },
    {
      "cell_type": "code",
      "execution_count": 1,
      "metadata": {
        "id": "kTQVTf8bIwqS"
      },
      "outputs": [],
      "source": [
        "import numpy as np"
      ]
    },
    {
      "cell_type": "markdown",
      "metadata": {
        "id": "ZlfMySUaIzfo"
      },
      "source": [
        "### Array\n",
        "\n",
        "L'obiettivo di NumPy è quello di fornire strumenti per eseguire calcolo matriciale/vettoriale in maniera semplice ed efficiente.\n",
        "\n",
        "NumPy permette la creazione di **ndarray** (*n-dimensional array*), ovvero liste contenenti esclusivamente elementi dello stesso tipo. Al contrario, le liste di Python possono contenere elementi eterogenei (interi, stringhe, ...), cosa che le rende poco adatte al calcolo matriciale.\n",
        "\n",
        "Tramite gli *ndarray*, NumPy è in grado di memorizzare i dati con un uso di memoria ottimale. Inoltre, le operazioni aritmetiche e di manipolazione dei dati messe a disposizione risultano essere particolarmente ottimizzate essendo di fatto implementate in C++.\n",
        "\n",
        "Nota: Python è un linguaggio terribilmente lento. Tuttavia, le librerie mainstream in ambito ML/AI (NumPy, scikit-learn, PyTorch, TensorFlow, ...) demandano tutti i calcoli onerosi a una implementazione scritta in un liguaggio di basso livello (C++, Rust, Assembler, ...).\n",
        "\n",
        "L'inizializzazione di un **ndarray** è affidata alla funzione **array(...)**. Nella sua versione base la funzione accetta come parametro una lista di valori."
      ]
    },
    {
      "cell_type": "code",
      "execution_count": 2,
      "metadata": {
        "id": "yt1rvQhaLYeU",
        "colab": {
          "base_uri": "https://localhost:8080/"
        },
        "outputId": "dd3650e7-3400-4dd2-878c-83b2bd88751c"
      },
      "outputs": [
        {
          "output_type": "stream",
          "name": "stdout",
          "text": [
            "<class 'numpy.ndarray'>\n",
            "Contenuto di vector: [0 1 2 3 4 5]\n"
          ]
        }
      ],
      "source": [
        "# Definisce un vettore contenente gli elementi da 0 a 5\n",
        "vector = np.array([0, 1, 2, 3, 4, 5])\n",
        "print(type(vector))\n",
        "print('Contenuto di vector:', vector)"
      ]
    },
    {
      "cell_type": "markdown",
      "metadata": {
        "id": "9mSmUJwSLcjf"
      },
      "source": [
        "### List vs ndarray\n",
        "\n",
        "Per comparazione, proviamo a eseguire la print del tipo e contenuto di una lista Python:"
      ]
    },
    {
      "cell_type": "code",
      "execution_count": 3,
      "metadata": {
        "id": "XbL0Jbo8LwIN",
        "colab": {
          "base_uri": "https://localhost:8080/"
        },
        "outputId": "058dd5f9-6b27-4c70-856b-e587a33a511c"
      },
      "outputs": [
        {
          "output_type": "stream",
          "name": "stdout",
          "text": [
            "<class 'list'>\n",
            "Contenuto di native_list: [0, 1, 2, 3, 4, 5]\n"
          ]
        }
      ],
      "source": [
        "# Definisce una lista contenente gli elementi da 0 a 5\n",
        "native_list = [0, 1, 2, 3, 4, 5]\n",
        "print(type(native_list))\n",
        "print('Contenuto di native_list:', native_list)"
      ]
    },
    {
      "cell_type": "markdown",
      "metadata": {
        "id": "cxdxJOpZL9TP"
      },
      "source": [
        "Possiamo notare che il tipo è diverso ('list' vs 'numpy.ndarray') e che la print formatta in maniera leggermente diversa l'output.\n",
        "\n",
        "Tuttavia per certi aspetti l'ndarray è molto simile a una lista Python, tanto che in alcune situazioni potrebbero essere intercambiabili.\n",
        "\n",
        "Vediamo i principali elementi di similarità e differenza:\n",
        "1. Entrambi supportano la funzione `len(...)` per ottenerne la lunghezza:"
      ]
    },
    {
      "cell_type": "code",
      "execution_count": 4,
      "metadata": {
        "id": "kFqFZGpUMgIH",
        "colab": {
          "base_uri": "https://localhost:8080/"
        },
        "outputId": "684b63f7-e619-4743-d6af-ca65d611f2f1"
      },
      "outputs": [
        {
          "output_type": "stream",
          "name": "stdout",
          "text": [
            "Lunghezza lista Python: 6\n",
            "Lunghezza array NumPy: 6\n"
          ]
        }
      ],
      "source": [
        "print('Lunghezza lista Python:', len(native_list))\n",
        "print('Lunghezza array NumPy:', len(vector))"
      ]
    },
    {
      "cell_type": "markdown",
      "metadata": {
        "id": "X9TS6emYMpdk"
      },
      "source": [
        "2. Possiamo accedere agli elementi della lista/array con la stessa sintassi:"
      ]
    },
    {
      "cell_type": "code",
      "execution_count": 5,
      "metadata": {
        "id": "fb3yCXbPMuaF",
        "colab": {
          "base_uri": "https://localhost:8080/"
        },
        "outputId": "8d7309a6-aa40-4278-eb2a-bba7f16d30fa"
      },
      "outputs": [
        {
          "output_type": "stream",
          "name": "stdout",
          "text": [
            "0\n",
            "0\n"
          ]
        }
      ],
      "source": [
        "# Accesso in lettura (vedi in seguito per la scrittura)\n",
        "print(native_list[0])\n",
        "print(vector[0])"
      ]
    },
    {
      "cell_type": "markdown",
      "metadata": {
        "id": "90U4uiYIM78N"
      },
      "source": [
        "3. Stessa sintssi per il ciclo for:"
      ]
    },
    {
      "cell_type": "code",
      "execution_count": 6,
      "metadata": {
        "id": "phwApzvqM4-a",
        "colab": {
          "base_uri": "https://localhost:8080/"
        },
        "outputId": "36f407dc-af4a-44bb-f9a6-651d64d75f3f"
      },
      "outputs": [
        {
          "output_type": "stream",
          "name": "stdout",
          "text": [
            "Contenuto lista Python:\n",
            "0\n",
            "1\n",
            "2\n",
            "3\n",
            "4\n",
            "5\n",
            "Contenuto array NumPy:\n",
            "0\n",
            "1\n",
            "2\n",
            "3\n",
            "4\n",
            "5\n"
          ]
        }
      ],
      "source": [
        "print('Contenuto lista Python:')\n",
        "for element in native_list:\n",
        "  print(element)\n",
        "\n",
        "print('Contenuto array NumPy:')\n",
        "for element in vector:\n",
        "  print(element)"
      ]
    },
    {
      "cell_type": "markdown",
      "metadata": {
        "id": "8-UN6a5vNghC"
      },
      "source": [
        "Pertanto, finche si tratta di usare un array (monodimensionale) o una lista Python in un codice che accede ai dati in sola lettura, la sintassi da utilizzare è la stessa.\n",
        "\n",
        "Le cose si complicano in due casi:\n",
        "- Accesso in scrittura\n",
        "- Array multidimensionali\n",
        "\n",
        "In questi casi le strade si biforcano ed è necessario trattare liste e array in maniera diversa.\n",
        "\n",
        "Iniziamo dal caso dell'accesso in scrittura. Per alcune operazioni la sintassi è la stessa:"
      ]
    },
    {
      "cell_type": "code",
      "execution_count": 7,
      "metadata": {
        "id": "JQrr5GJpOJFO",
        "colab": {
          "base_uri": "https://localhost:8080/"
        },
        "outputId": "ec60a0aa-72b5-4bed-f9f0-996f10f0c949"
      },
      "outputs": [
        {
          "output_type": "stream",
          "name": "stdout",
          "text": [
            "[7, 1, 2, 3, 4, 5]\n",
            "[7 1 2 3 4 5]\n"
          ]
        }
      ],
      "source": [
        "# Accesso in scrittura: sovrascriviamo un int\n",
        "native_list[0] = 7\n",
        "vector[0] = 7\n",
        "\n",
        "print(native_list)\n",
        "print(vector)"
      ]
    },
    {
      "cell_type": "markdown",
      "metadata": {
        "id": "T3C-BS9tOVLr"
      },
      "source": [
        "Tuttavia gli array NumPy possono contenere elementi solamente dello stesso tipo:"
      ]
    },
    {
      "cell_type": "code",
      "execution_count": 8,
      "metadata": {
        "id": "q89CyArVOUag",
        "colab": {
          "base_uri": "https://localhost:8080/"
        },
        "outputId": "2653562b-cd53-45d9-d5f0-be4657a22387"
      },
      "outputs": [
        {
          "output_type": "stream",
          "name": "stdout",
          "text": [
            "[7, 'mela', 0.2, 3, 4, 5]\n"
          ]
        }
      ],
      "source": [
        "native_list[1] = 'mela'  # OK\n",
        "native_list[2] = 0.2     # OK\n",
        "print(native_list)\n",
        "\n",
        "# Se l'array NumPy è stato creato per contenere interi, non è possibile inserire altro se non interi\n",
        "# vector[1] = 'mela'     # <<<--- ERRORE!\n",
        "# vector[2] = 0.2        # <<<--- NO ERRORE, MA MEMORIZZERÀ \"0\", non \"0.2\""
      ]
    },
    {
      "cell_type": "markdown",
      "metadata": {
        "id": "zYCU3wJcO4pI"
      },
      "source": [
        "Gli ndarray hanno un'altra forte limitazione: hanno dimensione fissa. Una volta creati, non è possibile espanderli o ridurli.\n",
        "\n",
        "Vedremo in seguito operazioni in grado di aggiungere elementi a un array, ma in realtà si tratta di operazioni che creano un nuovo array."
      ]
    },
    {
      "cell_type": "code",
      "execution_count": 13,
      "metadata": {
        "id": "Avxi4lbFPAHf",
        "colab": {
          "base_uri": "https://localhost:8080/"
        },
        "outputId": "8f929912-4f2b-42e9-c9f7-101fa56ff959"
      },
      "outputs": [
        {
          "output_type": "stream",
          "name": "stdout",
          "text": [
            "[7, 'mela', 0.2, 3, 4, 5, 11, 11, 11, 11, 11]\n"
          ]
        }
      ],
      "source": [
        "native_list.append(11)  # OK\n",
        "print(native_list)\n",
        "\n",
        "# vector.append(1)       # <<<--- ERRORE!"
      ]
    },
    {
      "cell_type": "markdown",
      "metadata": {
        "id": "7ulCbxkeVrka"
      },
      "source": [
        "### Array multidimensionali\n",
        "\n",
        "La grande differenza tra liste e array è la possibilità di manipolare dati in forma matriciale (bi-dimensionali) o addirittura n-dimensionali.\n",
        "\n",
        "Le liste Python potrebbero essere utilizzate per memorizzare una matrice innestando liste.\n",
        "\n",
        "Ad esempio, qui di seguito definiamo una lista contenente due liste di 3 elementi. Possiamo interpretare `matrix_using_lists` come una matrice 2x3 (due righe, tre colonne)."
      ]
    },
    {
      "cell_type": "code",
      "execution_count": 14,
      "metadata": {
        "id": "fsn7lNv7WEJk",
        "colab": {
          "base_uri": "https://localhost:8080/"
        },
        "outputId": "9f704b27-2fb2-4030-c1ae-ee01fb4831b2"
      },
      "outputs": [
        {
          "output_type": "stream",
          "name": "stdout",
          "text": [
            "[[0, 1, 2], [3, 4, 5]]\n"
          ]
        }
      ],
      "source": [
        "matrix_using_lists = [[0, 1, 2], [3, 4, 5]]\n",
        "\n",
        "print(matrix_using_lists)"
      ]
    },
    {
      "cell_type": "markdown",
      "metadata": {
        "id": "s5vP2nSdWQSU"
      },
      "source": [
        "Tuttavia innestare liste Python è poco efficiente e non fornisce le garanzie che ci vengono fornite da NumPy: 1) che i dati siano sempre dello stesso tipo e 2) che le sotto-liste abbiano lo stesso numero di elementi. Inoltre la print potrebbe diventare particolarmente confusionaria con matrici di grandi dimensioni o con tensori con più di 2 dimensioni.\n",
        "\n",
        "Possiamo creare un array NumPy bi-dimensionale a partire da liste innestate utilizzando la funzione *array(...)* vista in precedenza:"
      ]
    },
    {
      "cell_type": "code",
      "execution_count": 15,
      "metadata": {
        "id": "QW13LjZgW_Bc",
        "colab": {
          "base_uri": "https://localhost:8080/"
        },
        "outputId": "49ae44b5-3de9-4791-9ede-c5a64069fa13"
      },
      "outputs": [
        {
          "output_type": "stream",
          "name": "stdout",
          "text": [
            "[[0 1 2]\n",
            " [3 4 5]]\n"
          ]
        }
      ],
      "source": [
        "matrix = np.array(matrix_using_lists)\n",
        "\n",
        "print(matrix)"
      ]
    },
    {
      "cell_type": "markdown",
      "metadata": {
        "id": "u4yUWoskXZE0"
      },
      "source": [
        "Si noti come la print sia in grado di formattare l'output in una maniera più semplice da leggere.\n",
        "\n",
        "Nota: in caso di matrici di grandi dimensioni, i valori delle colonne e delle righe intermedie verranno omessi e al loro posto verranno visualizzati dei puntini di sospensione `...`.\n",
        "\n",
        "NumPy tenterà di capire automaticamente qual è il tipo di dato della matrice. Nella cella precedente ha creato un array di interi. Nella cella seguente ad esempio passiamo un mix di interi e numeri floating point: in questo caso NumPy creerà un array di numeri floating point, di fatto convertendo gli int in float. Possiamo capire il tipo di dato in uso accedendo al campo `dtype`.\n",
        "\n"
      ]
    },
    {
      "cell_type": "code",
      "execution_count": 16,
      "metadata": {
        "id": "8KQUTKafZCCt",
        "colab": {
          "base_uri": "https://localhost:8080/"
        },
        "outputId": "07503a72-5d53-402e-b73c-e2e7098849ec"
      },
      "outputs": [
        {
          "output_type": "stream",
          "name": "stdout",
          "text": [
            "[[0.  1.1 2. ]\n",
            " [3.  4.  5.3]]\n",
            "float64\n"
          ]
        }
      ],
      "source": [
        "matrix = np.array([[0, 1.1, 2], [3, 4, 5.3]])\n",
        "\n",
        "print(matrix)\n",
        "print(matrix.dtype)"
      ]
    },
    {
      "cell_type": "markdown",
      "metadata": {
        "id": "lkqmUnxVmG3c"
      },
      "source": [
        "In alternativa, possiamo forzare il tipo del dato da utilizzare:"
      ]
    },
    {
      "cell_type": "code",
      "execution_count": 17,
      "metadata": {
        "id": "jGgYq9AgmMGv",
        "colab": {
          "base_uri": "https://localhost:8080/"
        },
        "outputId": "143a69b2-5b1a-4ea6-9f34-11e294c7f7d9"
      },
      "outputs": [
        {
          "output_type": "stream",
          "name": "stdout",
          "text": [
            "[1 2]\n",
            "int64\n"
          ]
        }
      ],
      "source": [
        "x = np.array([1, 2], dtype=np.int64)  # Forza un tipo di dati\n",
        "print(x)\n",
        "print(x.dtype)"
      ]
    },
    {
      "cell_type": "markdown",
      "metadata": {
        "id": "WUbe29szZCr1"
      },
      "source": [
        "Oltre ad *array(...)*, che comunque richiede come input liste Python opportunamente annidate, è comune usare altri metodi per inizializzare un array. Questi metodi accettano come input il numero di righe e colonne di cui deve essere composta la matrice. Nella cella seguente sono riportati i più comuni.\n",
        "\n",
        "Nota: se non forziamo il tipo di dato passando il parametro `dtype`, queste funzioni restituiscono array contenenti numeri floating point. `np.full(...)` è un'eccezione, potendo capire dal secondo parametro quale tipo è meglio usare."
      ]
    },
    {
      "cell_type": "code",
      "execution_count": 18,
      "metadata": {
        "id": "JF6n5PIyXYRg",
        "colab": {
          "base_uri": "https://localhost:8080/"
        },
        "outputId": "290026a6-2e51-43f6-ac65-e3eb2d12c4ef"
      },
      "outputs": [
        {
          "output_type": "stream",
          "name": "stdout",
          "text": [
            "Zeros:\n",
            " [[0. 0.]\n",
            " [0. 0.]]\n",
            "\n",
            "Ones:\n",
            " [[1. 1.]\n",
            " [1. 1.]\n",
            " [1. 1.]]\n",
            "\n",
            "Full:\n",
            " [[7 7]\n",
            " [7 7]]\n",
            "\n",
            "Eye:\n",
            " [[1. 0. 0.]\n",
            " [0. 1. 0.]\n",
            " [0. 0. 1.]]\n",
            "\n",
            "Random:\n",
            " [[0.4307884  0.84112123 0.59458997]\n",
            " [0.23090616 0.62184494 0.54630385]\n",
            " [0.22813602 0.3811697  0.84255667]\n",
            " [0.01819667 0.18773088 0.52176844]]\n"
          ]
        }
      ],
      "source": [
        "# Dichiarazione di una matrice 2x2 inizializzata con tutti gli elementi a 0\n",
        "a = np.zeros((2,2))\n",
        "print('Zeros:\\n', a)\n",
        "print()\n",
        "\n",
        "# Dichiarazione di una matrice 1x2 inizializzata con tutti gli elementi a 1\n",
        "b = np.ones((3,2))\n",
        "print('Ones:\\n', b)\n",
        "print()\n",
        "\n",
        "# Dichiarazione di una matrice 2x2 inizializzata con tutti gli elementi a un valore costante\n",
        "c = np.full((2,2), 7)\n",
        "print('Full:\\n', c)\n",
        "print()\n",
        "\n",
        "# Dichiarazione di una matrice identità 3x3\n",
        "d = np.eye(3)\n",
        "print('Eye:\\n', d)\n",
        "print()\n",
        "\n",
        "# Dichiarazione di una matrice 4x3 contenete valori casuali\n",
        "e = np.random.random((4,3))\n",
        "print('Random:\\n', e)"
      ]
    },
    {
      "cell_type": "markdown",
      "metadata": {
        "id": "JFAzPPdZaSso"
      },
      "source": [
        "È possibile accedere agli elementi di un array n-dimensionale sia in lettura che in scrittura con la sintassi vista per il caso mono-dimensionale."
      ]
    },
    {
      "cell_type": "code",
      "execution_count": 19,
      "metadata": {
        "id": "1jyMnOJhajh_",
        "colab": {
          "base_uri": "https://localhost:8080/"
        },
        "outputId": "ad5a1eea-35fa-446a-808b-ecf360619473"
      },
      "outputs": [
        {
          "output_type": "stream",
          "name": "stdout",
          "text": [
            "2.0\n",
            "[[ 0.  70.   2. ]\n",
            " [ 3.   4.   5.3]]\n"
          ]
        }
      ],
      "source": [
        "# Accesso in lettura\n",
        "element = matrix[0][2]  # Elemento alla prima riga, terza colonna\n",
        "print(element)\n",
        "\n",
        "# Accesso in scrittura\n",
        "matrix[0][1] = 70.0\n",
        "print(matrix)"
      ]
    },
    {
      "cell_type": "markdown",
      "metadata": {
        "id": "0ihnaILiajo8"
      },
      "source": [
        "È anche disponibile una sintassi più diretta, non disponibile nelle liste native Python."
      ]
    },
    {
      "cell_type": "code",
      "execution_count": 20,
      "metadata": {
        "id": "54MX1eKca6aL",
        "colab": {
          "base_uri": "https://localhost:8080/"
        },
        "outputId": "1813e3d1-e94a-4353-de9a-62454069c67f"
      },
      "outputs": [
        {
          "output_type": "stream",
          "name": "stdout",
          "text": [
            "2.0\n",
            "[[ 0.  70.   2. ]\n",
            " [15.   4.   5.3]]\n"
          ]
        }
      ],
      "source": [
        "# Accesso in lettura, sintassi \"diretta\"\n",
        "element = matrix[0, 2]\n",
        "print(element)\n",
        "\n",
        "# Accesso in scrittura\n",
        "matrix[1, 0] = 15.0\n",
        "print(matrix)"
      ]
    },
    {
      "cell_type": "markdown",
      "metadata": {
        "id": "11qmsDCuPbdN"
      },
      "source": [
        "Infine, prima di addentrarci in argomenti più complessi, è bene sapere che è possibile ottenere una lista Python a partire da un array NumPy utilizzando il metodo `.tolist()`. In certi casi, potrebbe aver senso trasformare una lista in array NumPy, eseguire le operazioni necessarie, e poi ri-trasformare il tutto in lista. Questo potrebbe essere utile anche solo per demandare certe operazioni particolarmente complicate a NumPy. Vedremo infatti a breve come NumPy permetta di eseguire operazioni complesse in una sola riga, dove utilizzando liste Python sarebbero necessare decine di righe di codice."
      ]
    },
    {
      "cell_type": "code",
      "execution_count": 21,
      "metadata": {
        "id": "j0RgXoLXPa0l",
        "colab": {
          "base_uri": "https://localhost:8080/"
        },
        "outputId": "f1481711-c639-43cd-f1a6-641e0af28808"
      },
      "outputs": [
        {
          "output_type": "stream",
          "name": "stdout",
          "text": [
            "[[0.0, 70.0, 2.0], [15.0, 4.0, 5.3]]\n"
          ]
        }
      ],
      "source": [
        "matrix_as_list = matrix.tolist()\n",
        "\n",
        "print(matrix_as_list)"
      ]
    },
    {
      "cell_type": "markdown",
      "metadata": {
        "id": "bTzxTVAYg9VJ"
      },
      "source": [
        "### Slicing\n",
        "Lo slicing può essere applicato esattamente come per le liste Python. Per prima cosa ripassiamo come funziona lo slicing nelle liste Python.\n",
        "\n",
        "La sintassi è `my_list[a:b]` dove `a` è l'indice da cui iniziare a selezionare la sotto-lista, mentre `b` è l'indice finale (escluso).\n",
        "\n",
        "Nota: è possibile omettere `a` per ottenere la sotto-lista partendo dal primo elemento, oppure è possibile omettere `b` per prendere tutti gli elementi fino alla fine."
      ]
    },
    {
      "cell_type": "code",
      "execution_count": 22,
      "metadata": {
        "id": "6X2eLksShKhl",
        "colab": {
          "base_uri": "https://localhost:8080/"
        },
        "outputId": "f45ae8d8-20fa-42c3-db4f-03d4a7a9c49c"
      },
      "outputs": [
        {
          "output_type": "stream",
          "name": "stdout",
          "text": [
            "[0, 1, 2, 3, 4, 5]\n",
            "[1, 2, 3]\n"
          ]
        }
      ],
      "source": [
        "complete_list = [0, 1, 2, 3, 4, 5]\n",
        "print(complete_list)\n",
        "\n",
        "sublist = complete_list[1:4]  # Ricordate: indice finale escluso!\n",
        "print(sublist)"
      ]
    },
    {
      "cell_type": "markdown",
      "metadata": {
        "id": "5QUJ8OYVh3oY"
      },
      "source": [
        "In NumPy possiamo ottenere sotto-array utilizzando lo slicing sia per array monodimensionali che N-dimensionali:"
      ]
    },
    {
      "cell_type": "code",
      "execution_count": 25,
      "metadata": {
        "id": "hemhMxjuiAX7",
        "colab": {
          "base_uri": "https://localhost:8080/"
        },
        "outputId": "360a486a-f661-43d0-96e9-9e979ac20fb9"
      },
      "outputs": [
        {
          "output_type": "stream",
          "name": "stdout",
          "text": [
            "Caso monodimensionale. Vettore di partenza:\n",
            "[7 1 2 3 4 5]\n",
            "Risultato slicing monodimensionale:\n",
            "[1 2 3]\n",
            "Caso bidimensionale. Matrice di partenza:\n",
            "[[ 0.  70.   2. ]\n",
            " [15.   4.   5.3]]\n",
            "Risultato slicing bidimensionale:\n",
            "[[15.  4.]]\n"
          ]
        }
      ],
      "source": [
        "print('Caso monodimensionale. Vettore di partenza:')\n",
        "print(vector)  # Creato in precedenza\n",
        "\n",
        "sub_vector = vector[1:4]  # Sintassi identica al caso liste Python\n",
        "print('Risultato slicing monodimensionale:')\n",
        "print(sub_vector)\n",
        "\n",
        "print('Caso bidimensionale. Matrice di partenza:')\n",
        "print(matrix)  # Creato in precedenza\n",
        "\n",
        "sub_matrix = matrix[1:, :2]\n",
        "print('Risultato slicing bidimensionale:')\n",
        "print(sub_matrix)\n",
        "\n",
        "# sub_list = complete_list[1:, :2]\n",
        "# print('Risultato slicing bidimensionale sulla lista')\n",
        "# print(sub_list)"
      ]
    },
    {
      "cell_type": "markdown",
      "metadata": {
        "id": "PJSzqiHskRpZ"
      },
      "source": [
        "Si noti, nel caso bi-dimensionale, come lo slicing vada a resisituire comunque un array bi-dimensionale. Nell'esempio precedente `sub_matrix` è una matrice di dimensione 1x2, non un vettore monodimensionale di dimensione 2. Questo si può notare dalle parentesi quadrate `[` e `]` doppie. Vedremo a breve il campo `shape`, che ci permetterà di verificare più facilmente le dimensioni di un array.\n",
        "\n",
        "Nota: usare la sintassi `matrix[1:, :2]` porta a un risultato diverso da `matrix[1:][:2]`. Riuscite a capire perchè?\n",
        "\n",
        "**Nota importante**: l'array risultante da uno slicing *solitamente* condivide la memoria con l'array originale, come dimostrato nella cella seguente:"
      ]
    },
    {
      "cell_type": "code",
      "execution_count": 26,
      "metadata": {
        "id": "yIXmkM89nIVS",
        "colab": {
          "base_uri": "https://localhost:8080/"
        },
        "outputId": "120a972f-363d-4c66-e5e2-5762afc2a841"
      },
      "outputs": [
        {
          "output_type": "stream",
          "name": "stdout",
          "text": [
            "Matrice originale\n",
            "[[0 1 2]\n",
            " [3 4 5]]\n",
            "Slice\n",
            "[[3 4]]\n",
            "77\n",
            "77\n"
          ]
        }
      ],
      "source": [
        "# Uno slice crea una vista, non una copia dei dati\n",
        "# Modificare uno slice equivale a modificare l'ndarray originale\n",
        "my_matrix = np.array([[0, 1, 2], [3, 4, 5]])\n",
        "print('Matrice originale')\n",
        "print(my_matrix)\n",
        "\n",
        "sliced_matrix = my_matrix[1:, :2]\n",
        "print('Slice')\n",
        "print(sliced_matrix)\n",
        "\n",
        "sliced_matrix[0, 1] = 77  # Modifico lo slice\n",
        "\n",
        "print(my_matrix[1, 1])\n",
        "print(sliced_matrix[0, 1])"
      ]
    },
    {
      "cell_type": "markdown",
      "metadata": {
        "id": "eRiJfE08aLUe"
      },
      "source": [
        "### Rank e shape\n",
        "Fino ad ora abbiamo creato ed utilizzato array mono- e bi-dimensionali. Tuttavia NumPy è in grado di manipolare tensori di un numero arbitrario di dimensioni. Per fare un po' di chiarezza, introduciamo i termini *rank* e *shape*.\n",
        "\n",
        "Si definisce **rank** il numero di dimensioni di un array.\n",
        "Si definisce **shape** una tupla di interi che esprimono la lunghezza di ciascuna dimensione.\n",
        "\n",
        "Per comprendere meglio questo concetto si consideri l'array *vector* definito in precedenza: si tratta di un array di *rank* `1` (cioè monodimensionale) e *shape* `(6,)` (cioè contenente 6 elementi). Si noti come `(6,)` sia una tupla di un solo elemento (perchè il rank è 1).\n",
        "\n",
        "Allo stesso tempo, la matrix definita in precedenza è un array di *rank* `2` (bidimensionale, cioè una matrice) e *shape* `(2, 3)` (cioè 2 righe e 3 colonne).\n",
        "\n",
        "Per ottenere la *shape* di un ndarray è sufficiente accedere al relativo attributo. Possiamo calcolare il rank come il numero di elementi nella shape, come mostrato nella cella seguente:"
      ]
    },
    {
      "cell_type": "code",
      "execution_count": 27,
      "metadata": {
        "id": "EoJl-milcLch",
        "colab": {
          "base_uri": "https://localhost:8080/"
        },
        "outputId": "9771aaa7-35ba-492a-e01a-964d6d198b7f"
      },
      "outputs": [
        {
          "output_type": "stream",
          "name": "stdout",
          "text": [
            "Contenuto di vector:\n",
            "[7 1 2 3 4 5]\n",
            "Shape di vector : (6,)\n",
            "Rank di vector: 1\n",
            "Contenuto di matrix:\n",
            "[[ 0.  70.   2. ]\n",
            " [15.   4.   5.3]]\n",
            "Shape di matrix : (2, 3)\n",
            "Rank di matrix: 2\n"
          ]
        }
      ],
      "source": [
        "print('Contenuto di vector:')\n",
        "print(vector)\n",
        "print('Shape di vector :', vector.shape)\n",
        "print('Rank di vector:', len(vector.shape))\n",
        "\n",
        "print('Contenuto di matrix:')\n",
        "print(matrix)\n",
        "print('Shape di matrix :', matrix.shape)\n",
        "print('Rank di matrix:', len(matrix.shape))"
      ]
    },
    {
      "cell_type": "markdown",
      "metadata": {
        "id": "HDbOSvAnFpdv"
      },
      "source": [
        "## Manipolazione dei dati\n",
        "\n",
        "Gli array NumPy sono a dimensione e tipo di dato fissi. Una volta creati, non è possibile ridimensionarli. Tuttavia, NumPy mette a disposizione alcune funzionalità per ottenere un nuovo ndarray a cui sono state aggiunte o rimosse righe, colonne, ... o è stato cambiato tipo. Queste funzioni non modificano l'ndarray originale.\n",
        "\n",
        "Abbiamo già visto lo slicing, che ci permette di ottenere un ndarray contenente un sotto-insieme di righe o colonne (pur condividento la memoria con l'ndarray originale). Le funzioni seguenti invece vanno ad aggiungere elementi alla dimensione voluta.\n",
        "\n",
        "### Concatenate\n",
        "\n",
        "La funzione **concatenate** è utilizzata per aggiungere righe o colonne. A `concatenate` deve essere passata una lista di array da concatenare. Se non vengono passati ulteriori parametri, viene eseguita una concatenazione di righe."
      ]
    },
    {
      "cell_type": "code",
      "execution_count": 28,
      "metadata": {
        "id": "7xa3xM_9GrGe",
        "colab": {
          "base_uri": "https://localhost:8080/"
        },
        "outputId": "07964ccb-ffa0-4b8b-d6c1-e015c70525a7"
      },
      "outputs": [
        {
          "output_type": "stream",
          "name": "stdout",
          "text": [
            "arr_concat:\n",
            " [[0 1]\n",
            " [2 3]\n",
            " [4 5]]\n"
          ]
        }
      ],
      "source": [
        "arr1 = np.array([[0, 1], [2, 3]])\n",
        "arr2 = np.array([[4, 5]])\n",
        "\n",
        "arr_concat = np.concatenate((arr1, arr2))\n",
        "print('arr_concat:\\n', arr_concat)"
      ]
    },
    {
      "cell_type": "markdown",
      "metadata": {
        "id": "8rUma07HHVn7"
      },
      "source": [
        "Tuttavia, è possibile concatenare una colonna passando `axis=1`. Il secondo array deve avere shape compatibile. Nell'esempio seguente concateniamo una matrice 2x2 con un vettore colonna (ovvero una matrice 2x1)"
      ]
    },
    {
      "cell_type": "code",
      "execution_count": 29,
      "metadata": {
        "id": "7F2rRzzXHHuw",
        "colab": {
          "base_uri": "https://localhost:8080/"
        },
        "outputId": "cc791b62-0b7b-4379-e2c4-f7efb82ba239"
      },
      "outputs": [
        {
          "output_type": "stream",
          "name": "stdout",
          "text": [
            "arr2_column:\n",
            " [[4]\n",
            " [5]]\n",
            "arr_concat_column:\n",
            " [[0 1 4]\n",
            " [2 3 5]]\n"
          ]
        }
      ],
      "source": [
        "arr1 = np.array([[0, 1], [2, 3]])\n",
        "arr2_column = np.array([[4], [5]])\n",
        "\n",
        "print('arr2_column:\\n', arr2_column)\n",
        "\n",
        "arr_concat_column = np.concatenate((arr1, arr2_column), axis=1)\n",
        "print('arr_concat_column:\\n', arr_concat_column)"
      ]
    },
    {
      "cell_type": "markdown",
      "metadata": {
        "id": "da8bZB8YIrSL"
      },
      "source": [
        "Infine, possiamo ottenere un ndarray di un tipo diverso da quello di partenza utilizzando **astype**:"
      ]
    },
    {
      "cell_type": "code",
      "execution_count": 30,
      "metadata": {
        "id": "x_3Xa49KIqr3",
        "colab": {
          "base_uri": "https://localhost:8080/"
        },
        "outputId": "3a5491be-4e8f-4312-a24f-95b23215de2c"
      },
      "outputs": [
        {
          "output_type": "stream",
          "name": "stdout",
          "text": [
            "[[0. 1.]\n",
            " [2. 3.]]\n"
          ]
        }
      ],
      "source": [
        "arr1 = np.array([[0, 1], [2, 3]])\n",
        "arr1_float = arr1.astype(float)\n",
        "\n",
        "print(arr1_float)"
      ]
    },
    {
      "cell_type": "markdown",
      "metadata": {
        "id": "34j8igNXORyo"
      },
      "source": [
        "### Reshape\n",
        "Un **ndarray** può essere manipolato in maniera tale da poter creare un array con *shape* differente a partire dal contenuto iniziale.\n",
        "\n",
        "Nell'esempio che segue *vector* è trasformato nell'equivalente vettore colonna utilizzando la funzione **reshape(...)**."
      ]
    },
    {
      "cell_type": "code",
      "execution_count": 31,
      "metadata": {
        "id": "RLnxdW4eOSqn",
        "colab": {
          "base_uri": "https://localhost:8080/"
        },
        "outputId": "7372ec64-37bd-43c0-80f2-de043a80bc48"
      },
      "outputs": [
        {
          "output_type": "stream",
          "name": "stdout",
          "text": [
            "Contenuto di column_vector:\n",
            " [[1]\n",
            " [2]\n",
            " [3]\n",
            " [4]\n",
            " [5]\n",
            " [6]]\n",
            "mono_dimensional_vector originale: [1 2 3 4 5 6]\n"
          ]
        }
      ],
      "source": [
        "# Trasformazione in vettore colonna\n",
        "mono_dimensional_vector = np.array([1, 2, 3, 4, 5, 6])\n",
        "column_vector = mono_dimensional_vector.reshape((6, 1))\n",
        "\n",
        "print('Contenuto di column_vector:\\n', column_vector)\n",
        "\n",
        "# Nota: l'array originale non è stato modificato\n",
        "print('mono_dimensional_vector originale:', mono_dimensional_vector)"
      ]
    },
    {
      "cell_type": "markdown",
      "source": [
        "Possiamo anche passare a reshape anche un singolo valore `-1` definendo solo le altre dimensioni."
      ],
      "metadata": {
        "id": "vj4uE15_PwL6"
      }
    },
    {
      "cell_type": "code",
      "source": [
        "column_vector = mono_dimensional_vector.reshape((-1, 1))\n",
        "\n",
        "print('Contenuto di column_vector:\\n', column_vector)"
      ],
      "metadata": {
        "id": "UAIeX7XnPvl7",
        "colab": {
          "base_uri": "https://localhost:8080/"
        },
        "outputId": "9601a3d7-af6a-4ded-e404-b7149b8260f8"
      },
      "execution_count": 32,
      "outputs": [
        {
          "output_type": "stream",
          "name": "stdout",
          "text": [
            "Contenuto di column_vector:\n",
            " [[1]\n",
            " [2]\n",
            " [3]\n",
            " [4]\n",
            " [5]\n",
            " [6]]\n"
          ]
        }
      ]
    },
    {
      "cell_type": "markdown",
      "source": [
        "Possiamo anche ri-ottenere un array monodimensionale usando *reshape*:"
      ],
      "metadata": {
        "id": "478dkkrtQJxG"
      }
    },
    {
      "cell_type": "code",
      "source": [
        "back_to_mono = column_vector.reshape((6,))  # oppure (-1,)\n",
        "print(back_to_mono)"
      ],
      "metadata": {
        "id": "EtjxxPV7QSuO",
        "colab": {
          "base_uri": "https://localhost:8080/"
        },
        "outputId": "c4d2b2c6-dc22-4fcd-e85b-53a649d80fa7"
      },
      "execution_count": 33,
      "outputs": [
        {
          "output_type": "stream",
          "name": "stdout",
          "text": [
            "[1 2 3 4 5 6]\n"
          ]
        }
      ]
    },
    {
      "cell_type": "markdown",
      "metadata": {
        "id": "7KUY8HktOZ6t"
      },
      "source": [
        "### Altre operazioni\n",
        "\n",
        "Esistono altre operazioni che possono essere molto comuni nella manipolazione dei dati, come stack [**np.stack**](https://numpy.org/doc/stable/reference/generated/numpy.stack.html) o [**np.flatten**](https://numpy.org/doc/stable/reference/generated/numpy.reshape.html).\n",
        "\n",
        "La [lista completa](https://numpy.org/doc/stable/reference/routines.array-manipulation.html) include operazioni che permettono di eseguire la stragrande maggioranza delle tranformazioni senza cicli e senza dover tornare a usare liste native Python."
      ]
    },
    {
      "cell_type": "markdown",
      "metadata": {
        "id": "lXbI4jQPruXN"
      },
      "source": [
        "## Operazioni algebriche\n",
        "\n",
        "NumPy mette a disposizione le più comuni operazioni algebriche.\n",
        "\n",
        "Queste operazioni funzionano in maniera simile sia per tutti gli array, a prescindere dal numero di dimensioni. Vedremo successivamente anche operazioni che hanno senso solo per i casi mono- e bi-direzionale.\n",
        "\n",
        "Partiamo dalle operazioni più semplici.\n",
        "\n",
        "Possiamo utilizzare gli operatori visti per le variabili numeriche (+, -, *, /, //, %) con gli ndarray. Quello che si ottiene è l'applicazione dell'operatore sui singoli elementi dell'array."
      ]
    },
    {
      "cell_type": "code",
      "execution_count": 34,
      "metadata": {
        "id": "1knnDW_XMdyf",
        "colab": {
          "base_uri": "https://localhost:8080/"
        },
        "outputId": "883c5658-fe48-4efd-93a9-914f16c4d54d"
      },
      "outputs": [
        {
          "output_type": "stream",
          "name": "stdout",
          "text": [
            "Vettore originale:\n",
            " [7 1 2 3 4 5]\n",
            "Addizione:\n",
            " [12  6  7  8  9 10]\n",
            "Sottrazione:\n",
            " [ 2 -4 -3 -2 -1  0]\n",
            "Moltiplicazione:\n",
            " [35  5 10 15 20 25]\n",
            "Divisione:\n",
            " [1.4 0.2 0.4 0.6 0.8 1. ]\n",
            "Divisione intera:\n",
            " [1 0 0 0 0 1]\n",
            "Resto divisione intera:\n",
            " [2 1 2 3 4 0]\n"
          ]
        }
      ],
      "source": [
        "vector_add_5 = vector + 5\n",
        "vector_sub_5 = vector - 5\n",
        "vector_mul_5 = vector * 5\n",
        "vector_div_5 = vector / 5  # Cambia il tipo di dato!\n",
        "vector_div_5_int = vector // 5\n",
        "vector_mod_5 = vector % 5\n",
        "\n",
        "print('Vettore originale:\\n', vector)\n",
        "print('Addizione:\\n', vector_add_5)\n",
        "print('Sottrazione:\\n', vector_sub_5)\n",
        "print('Moltiplicazione:\\n', vector_mul_5)\n",
        "print('Divisione:\\n', vector_div_5)\n",
        "print('Divisione intera:\\n', vector_div_5_int)\n",
        "print('Resto divisione intera:\\n', vector_mod_5)"
      ]
    },
    {
      "cell_type": "markdown",
      "metadata": {
        "id": "jQGNHjeDNvQ8"
      },
      "source": [
        "Lo stesso vale per array N-dimensionali:"
      ]
    },
    {
      "cell_type": "code",
      "execution_count": 35,
      "metadata": {
        "id": "_Du0XPiDNuyV",
        "colab": {
          "base_uri": "https://localhost:8080/"
        },
        "outputId": "c4580cc9-42af-4992-dbfa-d79c5c5be094"
      },
      "outputs": [
        {
          "output_type": "stream",
          "name": "stdout",
          "text": [
            "Matrice originale:\n",
            " [[ 0.  70.   2. ]\n",
            " [15.   4.   5.3]]\n",
            "Somma:\n",
            " [[ 5.  75.   7. ]\n",
            " [20.   9.  10.3]]\n"
          ]
        }
      ],
      "source": [
        "matrix_add_5 = matrix + 5\n",
        "\n",
        "print('Matrice originale:\\n', matrix)\n",
        "print('Somma:\\n', matrix_add_5)"
      ]
    },
    {
      "cell_type": "markdown",
      "metadata": {
        "id": "lfmh8Ot8NhCE"
      },
      "source": [
        "Il medesimo risultato, utilizzando le liste, si potrebbe ottenere in maniera molto più complessa (e poco performante). Tuttavia, la complessità del codice può aumentare all'aumentare delle dimensioni, dell'operazione da eseguire, eccetera.\n",
        "\n",
        "Di seguito un esempio:"
      ]
    },
    {
      "cell_type": "code",
      "execution_count": 36,
      "metadata": {
        "id": "-Ay8RoSLNgEo"
      },
      "outputs": [],
      "source": [
        "matrix_as_list = [[0, 1, 2], [3, 4, 5]]\n",
        "n_rows = 2\n",
        "n_columns = 3\n",
        "\n",
        "for r in range(n_rows):\n",
        "  for c in range(n_columns):\n",
        "    matrix_as_list[r][c] += 5"
      ]
    },
    {
      "cell_type": "markdown",
      "metadata": {
        "id": "pGzAkYktO-kb"
      },
      "source": [
        "Conviene quindi manipolare dati vettoriali/matriciali sempre utilizzando NumPy.\n",
        "\n",
        "NumPy permette anche di eseguire la somma e sottrazione tra array (e anche tra matrici o comunque array N-dimensionali):"
      ]
    },
    {
      "cell_type": "code",
      "execution_count": 38,
      "metadata": {
        "id": "q0_rD2ddOiMo",
        "colab": {
          "base_uri": "https://localhost:8080/"
        },
        "outputId": "c9dc8cfc-6f03-4ca1-d136-99dde05d9cd9"
      },
      "outputs": [
        {
          "output_type": "stream",
          "name": "stdout",
          "text": [
            "Somma:\n",
            " [6 4 9]\n",
            "Sottrazione:\n",
            " [-4  0  3]\n"
          ]
        }
      ],
      "source": [
        "vect1 = np.array([1,2,6])\n",
        "vect2 = np.array([5,2,3])\n",
        "\n",
        "# Somma tra vettori\n",
        "vector_sum = vect1 + vect2\n",
        "\n",
        "# Sottrazione tra vettori\n",
        "vector_sub = vect1 - vect2\n",
        "\n",
        "print('Somma:\\n', vector_sum)\n",
        "print('Sottrazione:\\n', vector_sub)"
      ]
    },
    {
      "cell_type": "markdown",
      "metadata": {
        "id": "w2veqTU2QpwG"
      },
      "source": [
        "Nota: l'operatore *'+'*, quando applicato a due liste \"native\" di Python, esegue una concatenazione. Tuttavia se lo stesso operatore viene applicato a due **ndarray** quella che si ottiene è una somma algebrica."
      ]
    },
    {
      "cell_type": "markdown",
      "metadata": {
        "id": "xdp3p30hRWQk"
      },
      "source": [
        "## Operazioni algebriche tra matrici\n",
        "Come già accennato, le matrici possono essere rappresentate tramite **ndarray** di *rank* 2. Numpy mette a disposizione diverse funzioni frequentemente utilizzate nel calcolo matriciale quali: calcolo della trasposta, dell'inversa, del determinante, del prodotto tra matrici, ecc."
      ]
    },
    {
      "cell_type": "markdown",
      "metadata": {
        "id": "IdRYFZxdRZd9"
      },
      "source": [
        "Nota: diverse funzioni di NumPy sono disponibili in duplice formato, ovvero `matrice.funzione(...)` e `np.funzione(matrice, ...)`. Solitamente sono esattamente la stessa funzione, ma è sempre meglio controllare la documentazione per essere certi.\n",
        "\n",
        "Come piccolo suggerimento, è possibile distinguere (da Google) le pagine della documentazione per le due tipologie di formato semplicemente dal titolo:\n",
        "\n",
        "![image.png](data:image/png;base64,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)"
      ]
    },
    {
      "cell_type": "markdown",
      "metadata": {
        "id": "Qtj6AJLmSwMa"
      },
      "source": [
        "### Calcolo della trasposta\n",
        "È possibile calcolare la trasposta di una matrice richiamando il metodo **.transpose(...)**, oppure utilizzando l'attributo **.T**."
      ]
    },
    {
      "cell_type": "code",
      "execution_count": 39,
      "metadata": {
        "id": "02aHg2bSRVr1",
        "colab": {
          "base_uri": "https://localhost:8080/"
        },
        "outputId": "2f18043a-4340-405d-c4e4-48e929cc08a3"
      },
      "outputs": [
        {
          "output_type": "stream",
          "name": "stdout",
          "text": [
            "Matrix:\n",
            " [[0 1 2]\n",
            " [3 4 5]]\n",
            "\n",
            "Trasposta di matrix:\n",
            " [[0 3]\n",
            " [1 4]\n",
            " [2 5]]\n"
          ]
        }
      ],
      "source": [
        "matrix = np.array([[0,1,2], [3,4,5]])\n",
        "print('Matrix:\\n', matrix)\n",
        "\n",
        "# Calcolo della trasposta\n",
        "matrix_transp = matrix.transpose()\n",
        "print('\\nTrasposta di matrix:\\n', matrix_transp)\n",
        "\n",
        "# In maniera equivalente\n",
        "matrix_transp = matrix.T\n",
        "matrix_transp = np.transpose(matrix)"
      ]
    },
    {
      "cell_type": "markdown",
      "metadata": {
        "id": "IXAyTfDqS5jy"
      },
      "source": [
        "### Calcolo dell'inversa\n",
        "È possibile calcolare l'inversa di una matrice utilizzando la funzione di libreria **np.linalg.inv(...)**."
      ]
    },
    {
      "cell_type": "code",
      "execution_count": 40,
      "metadata": {
        "id": "wCIRRWr5QpD3",
        "colab": {
          "base_uri": "https://localhost:8080/"
        },
        "outputId": "1548e33c-07f6-4d9b-b766-338d9db2803c"
      },
      "outputs": [
        {
          "output_type": "stream",
          "name": "stdout",
          "text": [
            "Inversa matrix2:\n",
            " [[ 0.07806691  0.00836431  0.00464684]\n",
            " [-0.06319703  0.10037175  0.05576208]\n",
            " [ 0.03345725 -0.06784387  0.07342007]]\n"
          ]
        }
      ],
      "source": [
        "# Definizione di una matrice quadrata\n",
        "matrix2 = np.array([[12,-1,0],\n",
        "                    [7,6,-5],\n",
        "                    [1,6,9]])\n",
        "\n",
        "# Calcolo dell'inversa\n",
        "matrix2_inv = np.linalg.inv(matrix2)\n",
        "print('Inversa matrix2:\\n', matrix2_inv)"
      ]
    },
    {
      "cell_type": "markdown",
      "metadata": {
        "id": "3qGmi_J0S7Zu"
      },
      "source": [
        "### Calcolo del determinante\n",
        "È possibile calcolare il determinante di una matrice utilizzando la funzione di libreria **np.linalg.det(...)**."
      ]
    },
    {
      "cell_type": "code",
      "execution_count": 41,
      "metadata": {
        "id": "M5yKklChS8wL",
        "colab": {
          "base_uri": "https://localhost:8080/"
        },
        "outputId": "463530d2-3b01-41a5-d532-bed42d2eeb16"
      },
      "outputs": [
        {
          "output_type": "stream",
          "name": "stdout",
          "text": [
            "Determinante matrix2: 1076.0000000000002\n"
          ]
        }
      ],
      "source": [
        "# Calcolo del determinante\n",
        "matrix2_det = np.linalg.det(matrix2)\n",
        "print('Determinante matrix2:', matrix2_det)"
      ]
    },
    {
      "cell_type": "markdown",
      "metadata": {
        "id": "qBS91EGrTGsa"
      },
      "source": [
        "### Moltiplicazione matriciale\n",
        "La moltiplicazione matriciale è affidata al metodo **.dot(...)**. Questo metodo deve essere richiamato sulla matrice sinistra passando come parametro la matrice destra. In alternativa è possibile utilizzare la funzione di libreria **np.dot(...)** oppure l'operatore **@**.\n",
        "\n",
        "Nota: ricordatevi che l'operatore `*` non esegue la moltiplicazione matriciale, ma bensì la moltiplicazione elemento a elemento! La moltiplicazione matriciale riga x colonna è una cosa diversa."
      ]
    },
    {
      "cell_type": "code",
      "execution_count": 42,
      "metadata": {
        "id": "SBdEXNYlTiWN",
        "colab": {
          "base_uri": "https://localhost:8080/"
        },
        "outputId": "50824c98-ead2-4a9d-a6a3-65e81ae8cbb7"
      },
      "outputs": [
        {
          "output_type": "stream",
          "name": "stdout",
          "text": [
            "matrix:\n",
            " [[0 1 2]\n",
            " [3 4 5]]\n",
            "\n",
            "matrix2:\n",
            " [[12 -1  0]\n",
            " [ 7  6 -5]\n",
            " [ 1  6  9]]\n",
            "\n",
            "Moltiplicazione tra matrici:\n",
            " [[ 9 18 13]\n",
            " [69 51 25]]\n"
          ]
        }
      ],
      "source": [
        "# Reminder: matrix = [[0,1,2],\n",
        "#                      [3,4,5]]\n",
        "#\n",
        "#           matrix2 = [[12,-1,0],\n",
        "#                      [7,6,-5],\n",
        "#                      [1,6,9]]\n",
        "print('matrix:\\n', matrix)\n",
        "\n",
        "print('\\nmatrix2:\\n', matrix2)\n",
        "\n",
        "# Moltiplicazione matriciale tra le matrici \"matrix1\" e \"matrix2\"\n",
        "mul1 = matrix.dot(matrix2)\n",
        "print('\\nMoltiplicazione tra matrici:\\n', mul1)\n",
        "\n",
        "# In maniera equivalente\n",
        "mul2 = np.dot(matrix, matrix2)\n",
        "mul2 = matrix @ matrix2"
      ]
    },
    {
      "cell_type": "markdown",
      "metadata": {
        "id": "e--KjzJYXV6I"
      },
      "source": [
        "### Operazioni avanzate\n",
        "Di seguito sono elencate alcune delle operazioni avanzate messe a disposizione da Numpy.\n",
        "\n",
        "La [documentazione ufficiale](https://docs.scipy.org/doc/numpy/reference/generated/numpy.ndarray.html) di **ndarray** contiene la lista completa delle operazioni supportate.\n",
        "\n",
        "#### Media e deviazione standard di un vettore\n",
        "È possibile calcolare media e deviazione standard utilizzando i metodi **.mean(...)** e **.std(...)**."
      ]
    },
    {
      "cell_type": "code",
      "execution_count": 43,
      "metadata": {
        "id": "AaGvpGVYXar3",
        "colab": {
          "base_uri": "https://localhost:8080/"
        },
        "outputId": "a053104d-0267-4a0b-d352-bfa22f8ffd35"
      },
      "outputs": [
        {
          "output_type": "stream",
          "name": "stdout",
          "text": [
            "matrix:\n",
            " [[0 1 2]\n",
            " [3 4 5]]\n",
            "Media: 2.5\n",
            "Deviazione standard: 1.707825127659933\n"
          ]
        }
      ],
      "source": [
        "print('matrix:\\n', matrix)\n",
        "print('Media:', matrix.mean())\n",
        "print('Deviazione standard:', matrix.std())"
      ]
    },
    {
      "cell_type": "markdown",
      "metadata": {
        "id": "ggb20eJ3XihL"
      },
      "source": [
        "### Trasformazione in scalare\n",
        "È possibile ottenere uno scalare da un **ndarray** contenente un solo elemento (anche se l'array è N-dimensionale, N > 1)."
      ]
    },
    {
      "cell_type": "code",
      "execution_count": 44,
      "metadata": {
        "id": "jngzfy4UXlob",
        "colab": {
          "base_uri": "https://localhost:8080/"
        },
        "outputId": "65f6d222-36df-4a69-e9de-bcd260b6777e"
      },
      "outputs": [
        {
          "output_type": "stream",
          "name": "stdout",
          "text": [
            "Scalare: 1\n"
          ]
        }
      ],
      "source": [
        "single_element_array = np.array([[1]])\n",
        "\n",
        "print('Scalare:', single_element_array.item())"
      ]
    },
    {
      "cell_type": "markdown",
      "metadata": {
        "id": "C2n3f9VpX75x"
      },
      "source": [
        "#### Somma degli elementi\n",
        "La somma degli elementi è affidata al metodo **.sum(...)** o alla funzione di libreria **np.sum(...)**."
      ]
    },
    {
      "cell_type": "code",
      "execution_count": 45,
      "metadata": {
        "id": "wOWIec2XX-Qf",
        "colab": {
          "base_uri": "https://localhost:8080/"
        },
        "outputId": "25091591-5529-4978-f862-107da3f7e434"
      },
      "outputs": [
        {
          "output_type": "stream",
          "name": "stdout",
          "text": [
            "[0 1 2]\n",
            "Somma: 3\n",
            "\n",
            "matrix:\n",
            " [[0 1 2]\n",
            " [3 4 5]]\n",
            "\n",
            "Somma: 15\n",
            "Somma per riga: [ 3 12]\n",
            "Somma per colonna: [3 5 7]\n"
          ]
        }
      ],
      "source": [
        "# Somma degli elementi di un vettore\n",
        "vector = np.array([0, 1, 2])\n",
        "print(vector)\n",
        "print('Somma:', vector.sum())\n",
        "print()\n",
        "\n",
        "# Reminder: matrix = [[0,1,2],\n",
        "#                      [3,4,5]]\n",
        "print('matrix:\\n', matrix)\n",
        "print()\n",
        "\n",
        "# Somma degli elementi di una matrice\n",
        "elements_sum = matrix.sum()\n",
        "print('Somma:', elements_sum)\n",
        "\n",
        "# Somma degli elementi di una matrice per riga\n",
        "elements_row_sum = matrix.sum(axis=1)\n",
        "print('Somma per riga:', elements_row_sum)\n",
        "\n",
        "# Somma degli elementi di una matrice per colonna\n",
        "elements_column_sum = matrix.sum(axis=0)\n",
        "print('Somma per colonna:', elements_column_sum)"
      ]
    },
    {
      "cell_type": "markdown",
      "metadata": {
        "id": "Tk19mkM7YOa2"
      },
      "source": [
        "### Minimi e massimi di una matrice\n",
        "Allo stesso modo è possibile ottenere i minimi e i massimi per riga o colonna utilizzando i metodi **.min(...)** e **.max(...)**. Anche per queste sono disponibili le funzioni di libreria **np.min(...)** e **np.max(...)**."
      ]
    },
    {
      "cell_type": "code",
      "execution_count": 46,
      "metadata": {
        "id": "jSeg5CEwYQqF",
        "colab": {
          "base_uri": "https://localhost:8080/"
        },
        "outputId": "7e25b3d1-90eb-4d22-a6d3-82c58d07e313"
      },
      "outputs": [
        {
          "output_type": "stream",
          "name": "stdout",
          "text": [
            "vector2: [0 1 2 3 4 5]\n",
            "Minimo: 0\n",
            "Massimo: 5\n",
            "\n",
            "matrix:\n",
            " [[0 1 2]\n",
            " [3 4 5]]\n",
            "\n",
            "Minimi delle righe: [0 3]\n",
            "Massimi delle colonne: [3 4 5]\n"
          ]
        }
      ],
      "source": [
        "vector2 = np.array([0, 1, 2, 3, 4, 5])\n",
        "print('vector2:', vector2)\n",
        "\n",
        "print('Minimo:', vector2.min())\n",
        "print('Massimo:', vector2.max())\n",
        "print()\n",
        "\n",
        "# Reminder: matrix = [[0,1,2],\n",
        "#                      [3,4,5]]\n",
        "print('matrix:\\n', matrix)\n",
        "print()\n",
        "\n",
        "# Minimi delle righe di una matrice\n",
        "mins = matrix.min(axis=1)\n",
        "print('Minimi delle righe:', mins)\n",
        "\n",
        "# Massimi delle colonne di una matrice\n",
        "maxs = matrix.max(axis=0)\n",
        "print('Massimi delle colonne:', maxs)"
      ]
    },
    {
      "cell_type": "markdown",
      "metadata": {
        "id": "7rvho5lpYbxv"
      },
      "source": [
        "Se invece si desidera ottenere gli indici di tali elementi, è possibile utilizzare i metodi **.argmin(...)** e **.argmax(...)**."
      ]
    },
    {
      "cell_type": "code",
      "execution_count": 47,
      "metadata": {
        "id": "XcKKYLIVYbMW",
        "colab": {
          "base_uri": "https://localhost:8080/"
        },
        "outputId": "fc1c01a0-4b8c-4c80-f239-7afc0b4de013"
      },
      "outputs": [
        {
          "output_type": "stream",
          "name": "stdout",
          "text": [
            "Indici dei minimi:\n",
            " [0 0]\n",
            "Indici dei massimi:\n",
            " [1 1 1]\n"
          ]
        }
      ],
      "source": [
        "# Indici posizionali dei minimi delle righe di una matrice\n",
        "min_indices = matrix.argmin(axis=1)\n",
        "print('Indici dei minimi:\\n', min_indices)\n",
        "\n",
        "# Indici posizionali dei massimi delle colonne di una matrice\n",
        "max_indices = matrix.argmax(axis=0)\n",
        "print('Indici dei massimi:\\n', max_indices)"
      ]
    },
    {
      "cell_type": "markdown",
      "source": [
        "## Esercizio\n",
        "Come \"\"\"semplice\"\"\" esercizio, si implementi la funzione `compute_mean` che, presa una matrice di N righe, ne calcoli la \"riga media\" $\\boldsymbol{\\mu}$.\n",
        "\n",
        "$\\Large{\\boldsymbol{\\mu}=\\frac{1}{n}\\sum_{i=1..n}\\boldsymbol{x}_i}$\n",
        "\n",
        "Ad esempio, se l'input fosse la seguente matrice 4x3:\n",
        "```\n",
        "[0.0  1.0  2.1]\n",
        "[5.2  7.2  9.9]\n",
        "[0.0  8.0  0.1]\n",
        "[5.0  0.7  0.3]\n",
        "```\n",
        "\n",
        "allora la riga media dovrebbe essere:\n",
        "```\n",
        "[2.55 5.225 3.1]\n",
        "```\n",
        "\n",
        "Il consiglio è di implementare la funzione in 2 modi diversi per comprendere le differenze tra i due approcci:\n",
        "\n",
        "1. Implementando la formula così come si legge. Fatelo utilizzando un ciclo for che cicla sulle singole righe (la sommatoria). Dovrete tenervi traccia del vettore somma (inizialmente con valori inizializzati a 0.0). Una volta ottenuto il vettore somma, dovrete dividere per `n` (numero di righe). Per una prima versione, date per scontato che la matrice sia Nx3. Tuttavia, come si potrebbe creare il vettore somma non sapendo il numero di colonne nella matrice?\n",
        "2. Implementando il calcolo del vettore medio utilizzando `np.mean`, come visto in precedenza."
      ],
      "metadata": {
        "id": "u5Ft4BBSQ2xW"
      }
    },
    {
      "cell_type": "code",
      "source": [
        "exercise_input = np.array([\n",
        "    [0.0, 1.0, 2.1],\n",
        "    [5.2, 7.2, 9.9],\n",
        "    [0.0, 8.0, 0.1],\n",
        "    [5.0, 0.7, 0.3]\n",
        "])\n",
        "\n",
        "def compute_mean(input_matrix):\n",
        "\n",
        "  sum_vector = input_matrix.sum(axis=0)\n",
        "\n",
        "  result = []\n",
        "  for x in sum_vector:\n",
        "    result.append(x / input_matrix.shape[0])\n",
        "\n",
        "  mean_mat = np.array(result)\n",
        "  return mean_mat\n",
        "\n",
        "print(compute_mean(exercise_input))\n",
        "\n",
        "\n",
        "def mean_fast(input_matrix):\n",
        "  return input_matrix.mean(axis=0)\n",
        "\n",
        "print(mean_fast(exercise_input))"
      ],
      "metadata": {
        "id": "9W25lXbARbkC",
        "colab": {
          "base_uri": "https://localhost:8080/"
        },
        "outputId": "c8e65025-fb4b-4ae8-bd51-3e6ae4d80fe0"
      },
      "execution_count": 72,
      "outputs": [
        {
          "output_type": "stream",
          "name": "stdout",
          "text": [
            "[2.55  4.225 3.1  ]\n",
            "[2.55  4.225 3.1  ]\n"
          ]
        }
      ]
    },
    {
      "cell_type": "markdown",
      "metadata": {
        "id": "PuLdFNcPYlKH"
      },
      "source": [
        "Questo conclude la parte riguardante NumPy. Utilizzeremo NumPy nella seconda parte del laboratorio, che riguarderà **scikit-learn**. Scikit-learn usa NumPy come formato per la manipolazione dei dati, per cui gli input e gli output che passeremo alle funzioni offerte da scikit-learn dovranno essere ndarray.\n",
        "\n",
        "Si noti che NumPy è onnipresente nel Machine Learning, nella Data Science, etc. Scikit-learn infatti non è l'unico framework ad utilizzare NumPy come metodo per la manipolazione dei dati. Librerie come Matplotlib (solitamente utilizzata per visualizzare dei risultati), PIL (manipolazione di immagini), scikit-image (strumenti per ML su immagini), TensorFlow e PyTorch (Deep Learning) si interfacciano direttamente con NumPy."
      ]
    },
    {
      "cell_type": "markdown",
      "metadata": {
        "id": "GayzJ85uDGnC"
      },
      "source": [
        "# Seconda parte\n",
        "La seconda parte dell'esercitazione è disponibile qui: https://colab.research.google.com/drive/1-Je3u4hMMJCcbceTDibmy-nCcooZgZGg?usp=sharing"
      ]
    }
  ],
  "metadata": {
    "colab": {
      "provenance": [],
      "include_colab_link": true
    },
    "kernelspec": {
      "display_name": "Python 3",
      "name": "python3"
    },
    "language_info": {
      "name": "python"
    }
  },
  "nbformat": 4,
  "nbformat_minor": 0
}